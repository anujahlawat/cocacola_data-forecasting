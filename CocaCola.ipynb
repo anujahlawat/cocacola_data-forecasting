{
 "cells": [
  {
   "cell_type": "code",
   "execution_count": 1,
   "id": "eca30b6a",
   "metadata": {},
   "outputs": [],
   "source": [
    "import warnings\n",
    "warnings.filterwarnings(\"ignore\")"
   ]
  },
  {
   "cell_type": "code",
   "execution_count": 2,
   "id": "6d27d79d",
   "metadata": {},
   "outputs": [],
   "source": [
    "import pandas as pd\n",
    "import numpy as np\n",
    "import matplotlib.pyplot as plt\n",
    "import seaborn as sns\n",
    "\n",
    "from numpy import sqrt\n",
    "\n",
    "from pandas.plotting import lag_plot\n",
    "\n",
    "from statsmodels.tsa.seasonal import seasonal_decompose\n",
    "\n",
    "from statsmodels.tsa.holtwinters import SimpleExpSmoothing        # single Exponential Smoothing (SES)\n",
    "from statsmodels.tsa.holtwinters import Holt                      # double Exponential Smoothing (holt method)\n",
    "from statsmodels.tsa.holtwinters import ExponentialSmoothing        # triple Exponential Smoothing (holt winter method)"
   ]
  },
  {
   "cell_type": "markdown",
   "id": "0c46401c",
   "metadata": {},
   "source": [
    "### 1. importing data"
   ]
  },
  {
   "cell_type": "code",
   "execution_count": 3,
   "id": "a3ea8698",
   "metadata": {},
   "outputs": [
    {
     "data": {
      "text/html": [
       "<div>\n",
       "<style scoped>\n",
       "    .dataframe tbody tr th:only-of-type {\n",
       "        vertical-align: middle;\n",
       "    }\n",
       "\n",
       "    .dataframe tbody tr th {\n",
       "        vertical-align: top;\n",
       "    }\n",
       "\n",
       "    .dataframe thead th {\n",
       "        text-align: right;\n",
       "    }\n",
       "</style>\n",
       "<table border=\"1\" class=\"dataframe\">\n",
       "  <thead>\n",
       "    <tr style=\"text-align: right;\">\n",
       "      <th></th>\n",
       "      <th>Quarter</th>\n",
       "      <th>Sales</th>\n",
       "    </tr>\n",
       "  </thead>\n",
       "  <tbody>\n",
       "    <tr>\n",
       "      <th>0</th>\n",
       "      <td>Q1_86</td>\n",
       "      <td>1734.827000</td>\n",
       "    </tr>\n",
       "    <tr>\n",
       "      <th>1</th>\n",
       "      <td>Q2_86</td>\n",
       "      <td>2244.960999</td>\n",
       "    </tr>\n",
       "    <tr>\n",
       "      <th>2</th>\n",
       "      <td>Q3_86</td>\n",
       "      <td>2533.804993</td>\n",
       "    </tr>\n",
       "    <tr>\n",
       "      <th>3</th>\n",
       "      <td>Q4_86</td>\n",
       "      <td>2154.962997</td>\n",
       "    </tr>\n",
       "    <tr>\n",
       "      <th>4</th>\n",
       "      <td>Q1_87</td>\n",
       "      <td>1547.818996</td>\n",
       "    </tr>\n",
       "  </tbody>\n",
       "</table>\n",
       "</div>"
      ],
      "text/plain": [
       "  Quarter        Sales\n",
       "0   Q1_86  1734.827000\n",
       "1   Q2_86  2244.960999\n",
       "2   Q3_86  2533.804993\n",
       "3   Q4_86  2154.962997\n",
       "4   Q1_87  1547.818996"
      ]
     },
     "execution_count": 3,
     "metadata": {},
     "output_type": "execute_result"
    }
   ],
   "source": [
    "data = pd.read_csv(\"CocaCola.csv\")\n",
    "data.head()"
   ]
  },
  {
   "cell_type": "markdown",
   "id": "71c4fec3",
   "metadata": {},
   "source": [
    "### 2.1 getting data ready"
   ]
  },
  {
   "cell_type": "code",
   "execution_count": 4,
   "id": "f4b3ba57",
   "metadata": {},
   "outputs": [
    {
     "name": "stdout",
     "output_type": "stream",
     "text": [
      "<class 'pandas.core.frame.DataFrame'>\n",
      "RangeIndex: 42 entries, 0 to 41\n",
      "Data columns (total 2 columns):\n",
      " #   Column   Non-Null Count  Dtype  \n",
      "---  ------   --------------  -----  \n",
      " 0   Quarter  42 non-null     object \n",
      " 1   Sales    42 non-null     float64\n",
      "dtypes: float64(1), object(1)\n",
      "memory usage: 800.0+ bytes\n"
     ]
    }
   ],
   "source": [
    "data.info()"
   ]
  },
  {
   "cell_type": "code",
   "execution_count": 5,
   "id": "5a9d7856",
   "metadata": {},
   "outputs": [
    {
     "data": {
      "text/html": [
       "<div>\n",
       "<style scoped>\n",
       "    .dataframe tbody tr th:only-of-type {\n",
       "        vertical-align: middle;\n",
       "    }\n",
       "\n",
       "    .dataframe tbody tr th {\n",
       "        vertical-align: top;\n",
       "    }\n",
       "\n",
       "    .dataframe thead th {\n",
       "        text-align: right;\n",
       "    }\n",
       "</style>\n",
       "<table border=\"1\" class=\"dataframe\">\n",
       "  <thead>\n",
       "    <tr style=\"text-align: right;\">\n",
       "      <th></th>\n",
       "      <th>Quarter</th>\n",
       "      <th>Sales</th>\n",
       "    </tr>\n",
       "  </thead>\n",
       "  <tbody>\n",
       "    <tr>\n",
       "      <th>0</th>\n",
       "      <td>Q1_86</td>\n",
       "      <td>1734.827000</td>\n",
       "    </tr>\n",
       "    <tr>\n",
       "      <th>1</th>\n",
       "      <td>Q2_86</td>\n",
       "      <td>2244.960999</td>\n",
       "    </tr>\n",
       "    <tr>\n",
       "      <th>2</th>\n",
       "      <td>Q3_86</td>\n",
       "      <td>2533.804993</td>\n",
       "    </tr>\n",
       "    <tr>\n",
       "      <th>3</th>\n",
       "      <td>Q4_86</td>\n",
       "      <td>2154.962997</td>\n",
       "    </tr>\n",
       "    <tr>\n",
       "      <th>4</th>\n",
       "      <td>Q1_87</td>\n",
       "      <td>1547.818996</td>\n",
       "    </tr>\n",
       "  </tbody>\n",
       "</table>\n",
       "</div>"
      ],
      "text/plain": [
       "  Quarter        Sales\n",
       "0   Q1_86  1734.827000\n",
       "1   Q2_86  2244.960999\n",
       "2   Q3_86  2533.804993\n",
       "3   Q4_86  2154.962997\n",
       "4   Q1_87  1547.818996"
      ]
     },
     "execution_count": 5,
     "metadata": {},
     "output_type": "execute_result"
    }
   ],
   "source": [
    "data.head()"
   ]
  },
  {
   "cell_type": "code",
   "execution_count": 6,
   "id": "10caee68",
   "metadata": {},
   "outputs": [
    {
     "data": {
      "text/html": [
       "<div>\n",
       "<style scoped>\n",
       "    .dataframe tbody tr th:only-of-type {\n",
       "        vertical-align: middle;\n",
       "    }\n",
       "\n",
       "    .dataframe tbody tr th {\n",
       "        vertical-align: top;\n",
       "    }\n",
       "\n",
       "    .dataframe thead th {\n",
       "        text-align: right;\n",
       "    }\n",
       "</style>\n",
       "<table border=\"1\" class=\"dataframe\">\n",
       "  <thead>\n",
       "    <tr style=\"text-align: right;\">\n",
       "      <th></th>\n",
       "      <th>Quarter</th>\n",
       "      <th>Sales</th>\n",
       "    </tr>\n",
       "  </thead>\n",
       "  <tbody>\n",
       "    <tr>\n",
       "      <th>37</th>\n",
       "      <td>Q2_95</td>\n",
       "      <td>4936.0</td>\n",
       "    </tr>\n",
       "    <tr>\n",
       "      <th>38</th>\n",
       "      <td>Q3_95</td>\n",
       "      <td>4895.0</td>\n",
       "    </tr>\n",
       "    <tr>\n",
       "      <th>39</th>\n",
       "      <td>Q4_95</td>\n",
       "      <td>4333.0</td>\n",
       "    </tr>\n",
       "    <tr>\n",
       "      <th>40</th>\n",
       "      <td>Q1_96</td>\n",
       "      <td>4194.0</td>\n",
       "    </tr>\n",
       "    <tr>\n",
       "      <th>41</th>\n",
       "      <td>Q2_96</td>\n",
       "      <td>5253.0</td>\n",
       "    </tr>\n",
       "  </tbody>\n",
       "</table>\n",
       "</div>"
      ],
      "text/plain": [
       "   Quarter   Sales\n",
       "37   Q2_95  4936.0\n",
       "38   Q3_95  4895.0\n",
       "39   Q4_95  4333.0\n",
       "40   Q1_96  4194.0\n",
       "41   Q2_96  5253.0"
      ]
     },
     "execution_count": 6,
     "metadata": {},
     "output_type": "execute_result"
    }
   ],
   "source": [
    "data.tail()"
   ]
  },
  {
   "cell_type": "code",
   "execution_count": 8,
   "id": "f4878533",
   "metadata": {},
   "outputs": [],
   "source": [
    "#so we have 42 records of data and there is no null value"
   ]
  },
  {
   "cell_type": "markdown",
   "id": "2958a58b",
   "metadata": {},
   "source": [
    "### 2.2 ploting of data"
   ]
  },
  {
   "cell_type": "markdown",
   "id": "a1db0131",
   "metadata": {},
   "source": [
    "### 2.2.1 working on trend of data"
   ]
  },
  {
   "cell_type": "code",
   "execution_count": 9,
   "id": "3724731c",
   "metadata": {},
   "outputs": [
    {
     "data": {
      "text/plain": [
       "<AxesSubplot:ylabel='Density'>"
      ]
     },
     "execution_count": 9,
     "metadata": {},
     "output_type": "execute_result"
    },
    {
     "data": {
      "text/plain": [
       "<Figure size 864x576 with 0 Axes>"
      ]
     },
     "metadata": {},
     "output_type": "display_data"
    },
    {
     "data": {
      "image/png": "[encoded data removed]",
      "text/plain": [
       "<Figure size 432x288 with 1 Axes>"
      ]
     },
     "metadata": {
      "needs_background": "light"
     },
     "output_type": "display_data"
    },
    {
     "data": {
      "image/png": "[encoded data removed]",
      "text/plain": [
       "<Figure size 432x288 with 1 Axes>"
      ]
     },
     "metadata": {
      "needs_background": "light"
     },
     "output_type": "display_data"
    },
    {
     "data": {
      "image/png": "[encoded data removed]",
      "text/plain": [
       "<Figure size 432x288 with 1 Axes>"
      ]
     },
     "metadata": {
      "needs_background": "light"
     },
     "output_type": "display_data"
    }
   ],
   "source": [
    "#figsize = plt.figaspect(0.618) \n",
    "plt.figure(figsize=(12,8))\n",
    "data.plot()\n",
    "data.hist()\n",
    "data.plot(kind='kde')"
   ]
  },
  {
   "cell_type": "code",
   "execution_count": 10,
   "id": "61762f03",
   "metadata": {},
   "outputs": [],
   "source": [
    "# there is a trend \n",
    "# there is seasonality "
   ]
  },
  {
   "cell_type": "code",
   "execution_count": 11,
   "id": "a4276ec4",
   "metadata": {},
   "outputs": [],
   "source": [
    "#note : trend of data is not linear, lets make it linear by taking square root"
   ]
  },
  {
   "cell_type": "markdown",
   "id": "edfabb7c",
   "metadata": {},
   "source": [
    "#### a) square root transform"
   ]
  },
  {
   "cell_type": "code",
   "execution_count": 12,
   "id": "d93e3ba1",
   "metadata": {},
   "outputs": [
    {
     "data": {
      "text/html": [
       "<div>\n",
       "<style scoped>\n",
       "    .dataframe tbody tr th:only-of-type {\n",
       "        vertical-align: middle;\n",
       "    }\n",
       "\n",
       "    .dataframe tbody tr th {\n",
       "        vertical-align: top;\n",
       "    }\n",
       "\n",
       "    .dataframe thead th {\n",
       "        text-align: right;\n",
       "    }\n",
       "</style>\n",
       "<table border=\"1\" class=\"dataframe\">\n",
       "  <thead>\n",
       "    <tr style=\"text-align: right;\">\n",
       "      <th></th>\n",
       "      <th>Quarter</th>\n",
       "      <th>Sales</th>\n",
       "    </tr>\n",
       "  </thead>\n",
       "  <tbody>\n",
       "    <tr>\n",
       "      <th>0</th>\n",
       "      <td>Q1_86</td>\n",
       "      <td>41.651254</td>\n",
       "    </tr>\n",
       "    <tr>\n",
       "      <th>1</th>\n",
       "      <td>Q2_86</td>\n",
       "      <td>47.381019</td>\n",
       "    </tr>\n",
       "    <tr>\n",
       "      <th>2</th>\n",
       "      <td>Q3_86</td>\n",
       "      <td>50.336915</td>\n",
       "    </tr>\n",
       "    <tr>\n",
       "      <th>3</th>\n",
       "      <td>Q4_86</td>\n",
       "      <td>46.421579</td>\n",
       "    </tr>\n",
       "    <tr>\n",
       "      <th>4</th>\n",
       "      <td>Q1_87</td>\n",
       "      <td>39.342331</td>\n",
       "    </tr>\n",
       "  </tbody>\n",
       "</table>\n",
       "</div>"
      ],
      "text/plain": [
       "  Quarter      Sales\n",
       "0   Q1_86  41.651254\n",
       "1   Q2_86  47.381019\n",
       "2   Q3_86  50.336915\n",
       "3   Q4_86  46.421579\n",
       "4   Q1_87  39.342331"
      ]
     },
     "execution_count": 12,
     "metadata": {},
     "output_type": "execute_result"
    }
   ],
   "source": [
    "data['Sales'] = sqrt(data['Sales'])\n",
    "data.head()"
   ]
  },
  {
   "cell_type": "code",
   "execution_count": 13,
   "id": "67a1f5d3",
   "metadata": {},
   "outputs": [
    {
     "data": {
      "text/plain": [
       "<AxesSubplot:ylabel='Density'>"
      ]
     },
     "execution_count": 13,
     "metadata": {},
     "output_type": "execute_result"
    },
    {
     "data": {
      "text/plain": [
       "<Figure size 864x576 with 0 Axes>"
      ]
     },
     "metadata": {},
     "output_type": "display_data"
    },
    {
     "data": {
      "image/png": "[encoded data removed]",
      "text/plain": [
       "<Figure size 432x288 with 1 Axes>"
      ]
     },
     "metadata": {
      "needs_background": "light"
     },
     "output_type": "display_data"
    },
    {
     "data": {
      "image/png": "[encoded data removed]",
      "text/plain": [
       "<Figure size 432x288 with 1 Axes>"
      ]
     },
     "metadata": {
      "needs_background": "light"
     },
     "output_type": "display_data"
    },
    {
     "data": {
      "image/png": "[encoded data removed]",
      "text/plain": [
       "<Figure size 432x288 with 1 Axes>"
      ]
     },
     "metadata": {
      "needs_background": "light"
     },
     "output_type": "display_data"
    }
   ],
   "source": [
    "#figsize = plt.figaspect(0.618) \n",
    "plt.figure(figsize=(12,8))\n",
    "data.plot()\n",
    "data.hist()\n",
    "data.plot(kind='kde')"
   ]
  },
  {
   "cell_type": "code",
   "execution_count": 14,
   "id": "a0e28d56",
   "metadata": {},
   "outputs": [],
   "source": [
    "#note : now trend look like to be linear"
   ]
  },
  {
   "cell_type": "markdown",
   "id": "f6d760ee",
   "metadata": {},
   "source": [
    "### 2.2.2 working on seasonality of data"
   ]
  },
  {
   "cell_type": "code",
   "execution_count": 17,
   "id": "286313dc",
   "metadata": {},
   "outputs": [
    {
     "data": {
      "image/png": "[encoded data removed]",
      "text/plain": [
       "<Figure size 432x288 with 4 Axes>"
      ]
     },
     "metadata": {
      "needs_background": "light"
     },
     "output_type": "display_data"
    }
   ],
   "source": [
    "figsize = plt.figaspect(0.618) \n",
    "decompose_ts_add = seasonal_decompose(data.Sales,period=4)\n",
    "decompose_ts_add.plot()\n",
    "plt.show()"
   ]
  },
  {
   "cell_type": "code",
   "execution_count": 18,
   "id": "cbd56218",
   "metadata": {},
   "outputs": [],
   "source": [
    "#i can clearly see seasonality in data"
   ]
  },
  {
   "cell_type": "markdown",
   "id": "2f796b16",
   "metadata": {},
   "source": [
    "### 2.2.3 lag plot"
   ]
  },
  {
   "cell_type": "code",
   "execution_count": 19,
   "id": "7ea3abe1",
   "metadata": {},
   "outputs": [
    {
     "data": {
      "image/png": "[encoded data removed]",
      "text/plain": [
       "<Figure size 432x288 with 1 Axes>"
      ]
     },
     "metadata": {
      "needs_background": "light"
     },
     "output_type": "display_data"
    }
   ],
   "source": [
    "lag_plot(data['Sales'])\n",
    "plt.show()"
   ]
  },
  {
   "cell_type": "markdown",
   "id": "706ee262",
   "metadata": {},
   "source": [
    "### 2.2.4 AcF and PACF"
   ]
  },
  {
   "cell_type": "code",
   "execution_count": 20,
   "id": "351122a5",
   "metadata": {},
   "outputs": [
    {
     "data": {
      "image/png": "[encoded data removed]",
      "text/plain": [
       "<Figure size 432x288 with 1 Axes>"
      ]
     },
     "metadata": {
      "needs_background": "light"
     },
     "output_type": "display_data"
    },
    {
     "data": {
      "image/png": "[encoded data removed]",
      "text/plain": [
       "<Figure size 432x288 with 1 Axes>"
      ]
     },
     "metadata": {
      "needs_background": "light"
     },
     "output_type": "display_data"
    }
   ],
   "source": [
    "import statsmodels.graphics.tsaplots as tsa_plots\n",
    "tsa_plots.plot_acf(data.Sales,lags=12)\n",
    "tsa_plots.plot_pacf(data.Sales,lags=12)\n",
    "plt.show()"
   ]
  },
  {
   "cell_type": "markdown",
   "id": "5cbc4a92",
   "metadata": {},
   "source": [
    "### 2.3 splitting the data"
   ]
  },
  {
   "cell_type": "code",
   "execution_count": 21,
   "id": "c8dbcb26",
   "metadata": {},
   "outputs": [],
   "source": [
    "train_data = data.iloc[:30]\n",
    "test_data = data.iloc[30:]"
   ]
  },
  {
   "cell_type": "code",
   "execution_count": 22,
   "id": "eacab208",
   "metadata": {},
   "outputs": [
    {
     "data": {
      "image/png": "[encoded data removed]",
      "text/plain": [
       "<Figure size 432x288 with 1 Axes>"
      ]
     },
     "metadata": {
      "needs_background": "light"
     },
     "output_type": "display_data"
    }
   ],
   "source": [
    "#figsize = plt.figaspect(0.618) \n",
    "#plt.figure(figsize=(12,8))\n",
    "train_data['Sales'].plot(legend=True, label='train'),\n",
    "test_data['Sales'].plot(legend=True, label='test');\n",
    "#plt.plot()"
   ]
  },
  {
   "cell_type": "code",
   "execution_count": 23,
   "id": "1c858815",
   "metadata": {},
   "outputs": [],
   "source": [
    "# 1) we have done square root tranformation\n",
    "# 2) there is trend in data\n",
    "# 3) there is seasonality in data\n",
    "\n",
    "# we go with smoothing technique (Holt-Winter method)"
   ]
  },
  {
   "cell_type": "markdown",
   "id": "e69ba60b",
   "metadata": {},
   "source": [
    "### 3. building model"
   ]
  },
  {
   "cell_type": "markdown",
   "id": "7de5af77",
   "metadata": {},
   "source": [
    "#### a) fit the model"
   ]
  },
  {
   "cell_type": "code",
   "execution_count": 34,
   "id": "573b7da6",
   "metadata": {},
   "outputs": [],
   "source": [
    "model = ExponentialSmoothing(train_data[\"Sales\"], trend=\"add\", seasonal=\"add\", seasonal_periods=4) #add the trend to the model\n",
    "model_fit = model.fit()"
   ]
  },
  {
   "cell_type": "code",
   "execution_count": 35,
   "id": "83d6b286",
   "metadata": {},
   "outputs": [
    {
     "data": {
      "text/plain": [
       "{'smoothing_level': 0.3293117487632375,\n",
       " 'smoothing_trend': 0.3293117487626715,\n",
       " 'smoothing_seasonal': 0.0,\n",
       " 'damping_trend': nan,\n",
       " 'initial_level': 46.23094124065424,\n",
       " 'initial_trend': -0.2560558216177125,\n",
       " 'initial_seasons': array([-3.35849518,  2.06726   ,  1.5620277 , -0.76561304]),\n",
       " 'use_boxcox': False,\n",
       " 'lamda': None,\n",
       " 'remove_bias': False}"
      ]
     },
     "execution_count": 35,
     "metadata": {},
     "output_type": "execute_result"
    }
   ],
   "source": [
    "par = model.params\n",
    "par"
   ]
  },
  {
   "cell_type": "markdown",
   "id": "c6a27b06",
   "metadata": {},
   "source": [
    "#### b) forecasting the test data"
   ]
  },
  {
   "cell_type": "code",
   "execution_count": 36,
   "id": "35afdc9f",
   "metadata": {},
   "outputs": [
    {
     "data": {
      "text/plain": [
       "30    62.325426\n",
       "31    60.780103\n",
       "32    58.969540\n",
       "33    65.177613\n",
       "34    65.454699\n",
       "35    63.909377\n",
       "36    62.098813\n",
       "37    68.306887\n",
       "38    68.583973\n",
       "39    67.038651\n",
       "40    65.228087\n",
       "41    71.436161\n",
       "dtype: float64"
      ]
     },
     "execution_count": 36,
     "metadata": {},
     "output_type": "execute_result"
    }
   ],
   "source": [
    "test_pred  = model_fit.forecast(12)\n",
    "test_pred"
   ]
  },
  {
   "cell_type": "code",
   "execution_count": 37,
   "id": "c4be07f7",
   "metadata": {},
   "outputs": [],
   "source": [
    "#note : we can also use prediction for test data *****************************\n",
    "\n",
    "# test_pred  = model.predict(par, start = test_data['Sales'].index[0], end = test_data['Sales'].index[-1])\n",
    "# test_pred"
   ]
  },
  {
   "cell_type": "code",
   "execution_count": 38,
   "id": "61c1dde3",
   "metadata": {},
   "outputs": [
    {
     "data": {
      "text/html": [
       "<div>\n",
       "<style scoped>\n",
       "    .dataframe tbody tr th:only-of-type {\n",
       "        vertical-align: middle;\n",
       "    }\n",
       "\n",
       "    .dataframe tbody tr th {\n",
       "        vertical-align: top;\n",
       "    }\n",
       "\n",
       "    .dataframe thead th {\n",
       "        text-align: right;\n",
       "    }\n",
       "</style>\n",
       "<table border=\"1\" class=\"dataframe\">\n",
       "  <thead>\n",
       "    <tr style=\"text-align: right;\">\n",
       "      <th></th>\n",
       "      <th>Quarter</th>\n",
       "      <th>Sales</th>\n",
       "      <th>test_pred_Sales</th>\n",
       "    </tr>\n",
       "  </thead>\n",
       "  <tbody>\n",
       "    <tr>\n",
       "      <th>30</th>\n",
       "      <td>Q3_93</td>\n",
       "      <td>60.241182</td>\n",
       "      <td>62.325426</td>\n",
       "    </tr>\n",
       "    <tr>\n",
       "      <th>31</th>\n",
       "      <td>Q4_93</td>\n",
       "      <td>58.077534</td>\n",
       "      <td>60.780103</td>\n",
       "    </tr>\n",
       "    <tr>\n",
       "      <th>32</th>\n",
       "      <td>Q1_94</td>\n",
       "      <td>57.896459</td>\n",
       "      <td>58.969540</td>\n",
       "    </tr>\n",
       "    <tr>\n",
       "      <th>33</th>\n",
       "      <td>Q2_94</td>\n",
       "      <td>65.893854</td>\n",
       "      <td>65.177613</td>\n",
       "    </tr>\n",
       "    <tr>\n",
       "      <th>34</th>\n",
       "      <td>Q3_94</td>\n",
       "      <td>66.790718</td>\n",
       "      <td>65.454699</td>\n",
       "    </tr>\n",
       "    <tr>\n",
       "      <th>35</th>\n",
       "      <td>Q4_94</td>\n",
       "      <td>63.379808</td>\n",
       "      <td>63.909377</td>\n",
       "    </tr>\n",
       "    <tr>\n",
       "      <th>36</th>\n",
       "      <td>Q1_95</td>\n",
       "      <td>62.080593</td>\n",
       "      <td>62.098813</td>\n",
       "    </tr>\n",
       "    <tr>\n",
       "      <th>37</th>\n",
       "      <td>Q2_95</td>\n",
       "      <td>70.256672</td>\n",
       "      <td>68.306887</td>\n",
       "    </tr>\n",
       "    <tr>\n",
       "      <th>38</th>\n",
       "      <td>Q3_95</td>\n",
       "      <td>69.964277</td>\n",
       "      <td>68.583973</td>\n",
       "    </tr>\n",
       "    <tr>\n",
       "      <th>39</th>\n",
       "      <td>Q4_95</td>\n",
       "      <td>65.825527</td>\n",
       "      <td>67.038651</td>\n",
       "    </tr>\n",
       "    <tr>\n",
       "      <th>40</th>\n",
       "      <td>Q1_96</td>\n",
       "      <td>64.761099</td>\n",
       "      <td>65.228087</td>\n",
       "    </tr>\n",
       "    <tr>\n",
       "      <th>41</th>\n",
       "      <td>Q2_96</td>\n",
       "      <td>72.477583</td>\n",
       "      <td>71.436161</td>\n",
       "    </tr>\n",
       "  </tbody>\n",
       "</table>\n",
       "</div>"
      ],
      "text/plain": [
       "   Quarter      Sales  test_pred_Sales\n",
       "30   Q3_93  60.241182        62.325426\n",
       "31   Q4_93  58.077534        60.780103\n",
       "32   Q1_94  57.896459        58.969540\n",
       "33   Q2_94  65.893854        65.177613\n",
       "34   Q3_94  66.790718        65.454699\n",
       "35   Q4_94  63.379808        63.909377\n",
       "36   Q1_95  62.080593        62.098813\n",
       "37   Q2_95  70.256672        68.306887\n",
       "38   Q3_95  69.964277        68.583973\n",
       "39   Q4_95  65.825527        67.038651\n",
       "40   Q1_96  64.761099        65.228087\n",
       "41   Q2_96  72.477583        71.436161"
      ]
     },
     "execution_count": 38,
     "metadata": {},
     "output_type": "execute_result"
    }
   ],
   "source": [
    "test_prediction = pd.DataFrame()\n",
    "test_prediction['Quarter'] = test_data.Quarter\n",
    "test_prediction['Sales'] = test_data.Sales\n",
    "test_prediction['test_pred_Sales'] = test_pred\n",
    "test_prediction"
   ]
  },
  {
   "cell_type": "markdown",
   "id": "15c3eddc",
   "metadata": {},
   "source": [
    "#### d) visualising the original test  data and predicted test data"
   ]
  },
  {
   "cell_type": "code",
   "execution_count": 39,
   "id": "c490d150",
   "metadata": {},
   "outputs": [
    {
     "data": {
      "text/plain": [
       "[]"
      ]
     },
     "execution_count": 39,
     "metadata": {},
     "output_type": "execute_result"
    },
    {
     "data": {
      "image/png": "[encoded data removed]",
      "text/plain": [
       "<Figure size 432x288 with 1 Axes>"
      ]
     },
     "metadata": {
      "needs_background": "light"
     },
     "output_type": "display_data"
    }
   ],
   "source": [
    "figsize = plt.figaspect(0.618) \n",
    "#plt.figure(figsize=(12,8))\n",
    "train_data['Sales'].plot(legend=True, label='train')\n",
    "test_data['Sales'].plot(legend=True, label='test')\n",
    "test_prediction['test_pred_Sales'].plot(legend=True, label='prediction')\n",
    "plt.plot()"
   ]
  },
  {
   "cell_type": "code",
   "execution_count": 40,
   "id": "f42c2c96",
   "metadata": {},
   "outputs": [],
   "source": [
    "#so trend for original test data and predicted test data is  nearly same"
   ]
  },
  {
   "cell_type": "markdown",
   "id": "82078abf",
   "metadata": {},
   "source": [
    "#### e) transforming sqrt to original form of data for test prediction DataFrame "
   ]
  },
  {
   "cell_type": "code",
   "execution_count": 41,
   "id": "3fde0c0e",
   "metadata": {},
   "outputs": [
    {
     "data": {
      "text/html": [
       "<div>\n",
       "<style scoped>\n",
       "    .dataframe tbody tr th:only-of-type {\n",
       "        vertical-align: middle;\n",
       "    }\n",
       "\n",
       "    .dataframe tbody tr th {\n",
       "        vertical-align: top;\n",
       "    }\n",
       "\n",
       "    .dataframe thead th {\n",
       "        text-align: right;\n",
       "    }\n",
       "</style>\n",
       "<table border=\"1\" class=\"dataframe\">\n",
       "  <thead>\n",
       "    <tr style=\"text-align: right;\">\n",
       "      <th></th>\n",
       "      <th>Quarter</th>\n",
       "      <th>Sales</th>\n",
       "      <th>test_pred_Sales</th>\n",
       "    </tr>\n",
       "  </thead>\n",
       "  <tbody>\n",
       "    <tr>\n",
       "      <th>30</th>\n",
       "      <td>Q3_93</td>\n",
       "      <td>3629.0</td>\n",
       "      <td>3884.458704</td>\n",
       "    </tr>\n",
       "    <tr>\n",
       "      <th>31</th>\n",
       "      <td>Q4_93</td>\n",
       "      <td>3373.0</td>\n",
       "      <td>3694.220980</td>\n",
       "    </tr>\n",
       "    <tr>\n",
       "      <th>32</th>\n",
       "      <td>Q1_94</td>\n",
       "      <td>3352.0</td>\n",
       "      <td>3477.406620</td>\n",
       "    </tr>\n",
       "    <tr>\n",
       "      <th>33</th>\n",
       "      <td>Q2_94</td>\n",
       "      <td>4342.0</td>\n",
       "      <td>4248.121281</td>\n",
       "    </tr>\n",
       "    <tr>\n",
       "      <th>34</th>\n",
       "      <td>Q3_94</td>\n",
       "      <td>4461.0</td>\n",
       "      <td>4284.317680</td>\n",
       "    </tr>\n",
       "  </tbody>\n",
       "</table>\n",
       "</div>"
      ],
      "text/plain": [
       "   Quarter   Sales  test_pred_Sales\n",
       "30   Q3_93  3629.0      3884.458704\n",
       "31   Q4_93  3373.0      3694.220980\n",
       "32   Q1_94  3352.0      3477.406620\n",
       "33   Q2_94  4342.0      4248.121281\n",
       "34   Q3_94  4461.0      4284.317680"
      ]
     },
     "execution_count": 41,
     "metadata": {},
     "output_type": "execute_result"
    }
   ],
   "source": [
    "test_prediction['Sales'] = np.square(test_prediction['Sales'])\n",
    "test_prediction['test_pred_Sales'] = np.square(test_prediction['test_pred_Sales'])\n",
    "test_prediction.head()"
   ]
  },
  {
   "cell_type": "markdown",
   "id": "4caf5ff9",
   "metadata": {},
   "source": [
    "#### e) evaluation of metrics"
   ]
  },
  {
   "cell_type": "code",
   "execution_count": 42,
   "id": "f9ff65c3",
   "metadata": {},
   "outputs": [
    {
     "data": {
      "text/plain": [
       "32536.49919208213"
      ]
     },
     "execution_count": 42,
     "metadata": {},
     "output_type": "execute_result"
    }
   ],
   "source": [
    "from sklearn.metrics import mean_squared_error\n",
    "mean_squared_error(test_prediction['Sales'],test_prediction['test_pred_Sales'])            #MSE"
   ]
  },
  {
   "cell_type": "code",
   "execution_count": 43,
   "id": "e72ca532",
   "metadata": {},
   "outputs": [
    {
     "data": {
      "text/plain": [
       "180.37876591240482"
      ]
     },
     "execution_count": 43,
     "metadata": {},
     "output_type": "execute_result"
    }
   ],
   "source": [
    "np.sqrt(mean_squared_error(test_prediction['Sales'],test_prediction['test_pred_Sales']))   #RMSE"
   ]
  },
  {
   "cell_type": "markdown",
   "id": "6be73031",
   "metadata": {},
   "source": [
    "### 4. final model (forecasting into future)"
   ]
  },
  {
   "cell_type": "markdown",
   "id": "6773f0d4",
   "metadata": {},
   "source": [
    "#### a) fit the model"
   ]
  },
  {
   "cell_type": "code",
   "execution_count": 44,
   "id": "b71b4c49",
   "metadata": {},
   "outputs": [],
   "source": [
    "model = ExponentialSmoothing(data[\"Sales\"], trend=\"add\", seasonal=\"add\", seasonal_periods=4) #add the trend to the model\n",
    "model_fit = model.fit()"
   ]
  },
  {
   "cell_type": "markdown",
   "id": "c8fc5617",
   "metadata": {},
   "source": [
    "#### b) forecasting "
   ]
  },
  {
   "cell_type": "code",
   "execution_count": 45,
   "id": "4f66b726",
   "metadata": {},
   "outputs": [
    {
     "data": {
      "text/plain": [
       "42    71.687762\n",
       "43    67.824511\n",
       "44    66.984076\n",
       "45    74.812531\n",
       "46    73.976705\n",
       "47    70.113454\n",
       "48    69.273020\n",
       "49    77.101475\n",
       "50    76.265649\n",
       "51    72.402398\n",
       "52    71.561964\n",
       "53    79.390419\n",
       "54    78.554592\n",
       "55    74.691342\n",
       "56    73.850907\n",
       "57    81.679362\n",
       "58    80.843536\n",
       "59    76.980285\n",
       "60    76.139851\n",
       "61    83.968306\n",
       "dtype: float64"
      ]
     },
     "execution_count": 45,
     "metadata": {},
     "output_type": "execute_result"
    }
   ],
   "source": [
    "fore  = model_fit.forecast(20)\n",
    "fore"
   ]
  },
  {
   "cell_type": "markdown",
   "id": "eacc0fcd",
   "metadata": {},
   "source": [
    "#### c) visualisation of data"
   ]
  },
  {
   "cell_type": "code",
   "execution_count": 46,
   "id": "da09edbe",
   "metadata": {},
   "outputs": [
    {
     "data": {
      "text/plain": [
       "<AxesSubplot:>"
      ]
     },
     "execution_count": 46,
     "metadata": {},
     "output_type": "execute_result"
    },
    {
     "data": {
      "image/png": "[encoded data removed]",
      "text/plain": [
       "<Figure size 432x288 with 1 Axes>"
      ]
     },
     "metadata": {
      "needs_background": "light"
     },
     "output_type": "display_data"
    }
   ],
   "source": [
    "data.plot()\n",
    "fore.plot()"
   ]
  },
  {
   "cell_type": "markdown",
   "id": "7f379f1d",
   "metadata": {},
   "source": [
    "#### d) transforming data from sqrt to original form"
   ]
  },
  {
   "cell_type": "code",
   "execution_count": 47,
   "id": "43ac44aa",
   "metadata": {},
   "outputs": [],
   "source": [
    "data['Sales'] = np.square(data['Sales']) \n",
    "fore = np.square(fore)"
   ]
  },
  {
   "cell_type": "code",
   "execution_count": 48,
   "id": "8609b6ce",
   "metadata": {},
   "outputs": [
    {
     "data": {
      "text/html": [
       "<div>\n",
       "<style scoped>\n",
       "    .dataframe tbody tr th:only-of-type {\n",
       "        vertical-align: middle;\n",
       "    }\n",
       "\n",
       "    .dataframe tbody tr th {\n",
       "        vertical-align: top;\n",
       "    }\n",
       "\n",
       "    .dataframe thead th {\n",
       "        text-align: right;\n",
       "    }\n",
       "</style>\n",
       "<table border=\"1\" class=\"dataframe\">\n",
       "  <thead>\n",
       "    <tr style=\"text-align: right;\">\n",
       "      <th></th>\n",
       "      <th>Quarter</th>\n",
       "      <th>Sales</th>\n",
       "    </tr>\n",
       "  </thead>\n",
       "  <tbody>\n",
       "    <tr>\n",
       "      <th>0</th>\n",
       "      <td>Q1_86</td>\n",
       "      <td>1734.827000</td>\n",
       "    </tr>\n",
       "    <tr>\n",
       "      <th>1</th>\n",
       "      <td>Q2_86</td>\n",
       "      <td>2244.960999</td>\n",
       "    </tr>\n",
       "    <tr>\n",
       "      <th>2</th>\n",
       "      <td>Q3_86</td>\n",
       "      <td>2533.804993</td>\n",
       "    </tr>\n",
       "    <tr>\n",
       "      <th>3</th>\n",
       "      <td>Q4_86</td>\n",
       "      <td>2154.962997</td>\n",
       "    </tr>\n",
       "    <tr>\n",
       "      <th>4</th>\n",
       "      <td>Q1_87</td>\n",
       "      <td>1547.818996</td>\n",
       "    </tr>\n",
       "  </tbody>\n",
       "</table>\n",
       "</div>"
      ],
      "text/plain": [
       "  Quarter        Sales\n",
       "0   Q1_86  1734.827000\n",
       "1   Q2_86  2244.960999\n",
       "2   Q3_86  2533.804993\n",
       "3   Q4_86  2154.962997\n",
       "4   Q1_87  1547.818996"
      ]
     },
     "execution_count": 48,
     "metadata": {},
     "output_type": "execute_result"
    }
   ],
   "source": [
    "data.head()"
   ]
  },
  {
   "cell_type": "code",
   "execution_count": 49,
   "id": "705dd10d",
   "metadata": {},
   "outputs": [
    {
     "data": {
      "text/plain": [
       "42    5139.135184\n",
       "43    4600.164281\n",
       "44    4486.866496\n",
       "45    5596.914855\n",
       "46    5472.552930\n",
       "47    4915.896500\n",
       "48    4798.751301\n",
       "49    5944.637444\n",
       "50    5816.449201\n",
       "51    5242.107245\n",
       "52    5121.114632\n",
       "53    6302.838558\n",
       "54    6170.823998\n",
       "55    5578.796515\n",
       "56    5453.956488\n",
       "57    6671.518197\n",
       "58    6535.677320\n",
       "59    5925.964310\n",
       "60    5797.276869\n",
       "61    7050.676362\n",
       "dtype: float64"
      ]
     },
     "execution_count": 49,
     "metadata": {},
     "output_type": "execute_result"
    }
   ],
   "source": [
    "fore"
   ]
  },
  {
   "cell_type": "code",
   "execution_count": 50,
   "id": "56252f41",
   "metadata": {},
   "outputs": [
    {
     "data": {
      "text/plain": [
       "<AxesSubplot:>"
      ]
     },
     "execution_count": 50,
     "metadata": {},
     "output_type": "execute_result"
    },
    {
     "data": {
      "image/png": "[encoded data removed]",
      "text/plain": [
       "<Figure size 432x288 with 1 Axes>"
      ]
     },
     "metadata": {
      "needs_background": "light"
     },
     "output_type": "display_data"
    }
   ],
   "source": [
    "data.plot()\n",
    "fore.plot()"
   ]
  },
  {
   "cell_type": "code",
   "execution_count": null,
   "id": "5f2d9cf9",
   "metadata": {},
   "outputs": [],
   "source": []
  }
 ],
 "metadata": {
  "kernelspec": {
   "display_name": "Python 3 (ipykernel)",
   "language": "python",
   "name": "python3"
  },
  "language_info": {
   "codemirror_mode": {
    "name": "ipython",
    "version": 3
   },
   "file_extension": ".py",
   "mimetype": "text/x-python",
   "name": "python",
   "nbconvert_exporter": "python",
   "pygments_lexer": "ipython3",
   "version": "3.9.7"
  }
 },
 "nbformat": 4,
 "nbformat_minor": 5
}
